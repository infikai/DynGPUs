{
 "cells": [
  {
   "cell_type": "code",
   "execution_count": 33,
   "id": "a5e657dc-b5aa-49f2-b05a-348a45fb2f3f",
   "metadata": {},
   "outputs": [
    {
     "name": "stdout",
     "output_type": "stream",
     "text": [
      "len GPUcolo used gpus 61\n",
      "len sepa2 used gpus 58\n",
      "len sepa2 used gpus train 58\n",
      "len sepa2 used gpus infer 58\n",
      "len nocolo used gpus 58\n",
      "len gslice used gpus 58\n",
      "len gslice used gpus train 58\n",
      "len gslice used gpus infer 58\n"
     ]
    }
   ],
   "source": [
    "import os\n",
    "# Num of gpus\n",
    "path_gpu_proposed = \"Proposed_burst/data/used_gpus\"\n",
    "dir_gpu_proposed = os.listdir(path_gpu_proposed)\n",
    "print(\"len GPUcolo used gpus %d\"%(len(dir_gpu_proposed)))\n",
    "\n",
    "# path_gpu_simple = \"Simple/data/used_gpus\"\n",
    "# dir_gpu_simple = os.listdir(path_gpu_simple)\n",
    "\n",
    "# path_gpu_conserve = \"Conservative/data/used_gpus\"\n",
    "# dir_gpu_conserve = os.listdir(path_gpu_conserve)\n",
    "\n",
    "# path_gpu_separate = \"Separate/data/used_gpus\"\n",
    "# dir_gpu_separate = os.listdir(path_gpu_separate)\n",
    "# path_gpu_separate_train = \"Separate/data/used_gpus_train\"\n",
    "# dir_gpu_separate_train = os.listdir(path_gpu_separate_train)\n",
    "# path_gpu_separate_infer = \"Separate/data/used_gpus_infer\"\n",
    "# dir_gpu_separate_infer = os.listdir(path_gpu_separate_infer)\n",
    "\n",
    "path_gpu_Separate_burst = \"Separate_burst/data/used_gpus\"\n",
    "dir_gpu_Separate_burst = os.listdir(path_gpu_Separate_burst)\n",
    "print(\"len sepa2 used gpus %d\"%(len(dir_gpu_Separate_burst)))\n",
    "path_gpu_Separate_burst_train = \"Separate_burst/data/used_gpus_train\"\n",
    "dir_gpu_Separate_burst_train = os.listdir(path_gpu_Separate_burst_train)\n",
    "print(\"len sepa2 used gpus train %d\"%(len(dir_gpu_Separate_burst_train)))\n",
    "path_gpu_Separate_burst_infer = \"Separate_burst/data/used_gpus_infer\"\n",
    "dir_gpu_Separate_burst_infer = os.listdir(path_gpu_Separate_burst_infer)\n",
    "print(\"len sepa2 used gpus infer %d\"%(len(dir_gpu_Separate_burst_infer)))\n",
    "\n",
    "path_gpu_non = \"Non_burst/data/used_gpus\"\n",
    "dir_gpu_non = os.listdir(path_gpu_non)\n",
    "print(\"len nocolo used gpus %d\"%(len(dir_gpu_non)))\n",
    "\n",
    "path_gpu_gslice = \"Gslice_burst/data/used_gpus\"\n",
    "dir_gpu_gslice = os.listdir(path_gpu_gslice)\n",
    "print(\"len gslice used gpus %d\"%(len(dir_gpu_gslice)))\n",
    "path_gpu_gslice_train = \"Gslice_burst/data/used_gpus_train\"\n",
    "dir_gpu_gslice_train  = os.listdir(path_gpu_gslice_train)\n",
    "print(\"len gslice used gpus train %d\"%(len(dir_gpu_gslice_train)))\n",
    "path_gpu_gslice_infer = \"Gslice_burst/data/used_gpus_infer\"\n",
    "dir_gpu_gslice_infer  = os.listdir(path_gpu_gslice_infer)\n",
    "print(\"len gslice used gpus infer %d\"%(len(dir_gpu_gslice_infer)))\n",
    "\n",
    "# Missed ddl rate\n",
    "path_ddl_proposed = \"Proposed_burst/data/miss_ddl\"\n",
    "dir_ddl_proposed = os.listdir(path_ddl_proposed)\n",
    "\n",
    "# path_ddl_simple = \"Simple/data/miss_ddl_u100\"\n",
    "# dir_ddl_simple = os.listdir(path_ddl_simple)\n",
    "\n",
    "# path_ddl_conserve = \"Conservative/data/miss_ddl\"\n",
    "# dir_ddl_conserve = os.listdir(path_ddl_conserve)\n",
    "\n",
    "# Train time\n",
    "path_train_proposed = \"Proposed_burst/data/train_time\"\n",
    "dir_train_proposed = os.listdir(path_train_proposed)\n",
    "\n",
    "# path_train_simple = \"Simple/data/train_time\"\n",
    "# dir_train_simple = os.listdir(path_train_simple)\n",
    "\n",
    "# path_train_conserve = \"Conservative/data/train_time\"\n",
    "# dir_train_conserve = os.listdir(path_train_conserve)\n",
    "\n",
    "# path_train_separate = \"Separate/data/train_time\"\n",
    "# dir_train_separate = os.listdir(path_train_separate)\n",
    "path_train_Separate_burst = \"Separate_burst/data/train_time\"\n",
    "dir_train_Separate_burst = os.listdir(path_train_Separate_burst)\n",
    "\n",
    "path_train_non = \"Non_burst/data/train_time\"\n",
    "dir_train_non = os.listdir(path_train_non)\n",
    "\n",
    "path_train_gslice = \"Gslice_burst/data/train_time\"\n",
    "dir_train_gslice = os.listdir(path_train_gslice)"
   ]
  },
  {
   "cell_type": "code",
   "execution_count": 34,
   "id": "8931d3c1-6b37-4da2-94c0-ebc2e9c14f50",
   "metadata": {},
   "outputs": [],
   "source": [
    "import matplotlib.pyplot as plt\n",
    "import numpy as np\n",
    "gpu_proposed100 = []\n",
    "# gpu_simple100 = []\n",
    "# gpu_conserve100 = []\n",
    "# gpu_separate100 = []\n",
    "# gpu_separate100_train = []\n",
    "# gpu_separate100_infer = []\n",
    "gpu_Separate_burst = []\n",
    "gpu_Separate_burst_train = []\n",
    "gpu_Separate_burst_infer = []\n",
    "gpu_non100 = []\n",
    "gpu_non100_train = []\n",
    "gpu_non100_infer = []\n",
    "gpu_gslice100 = []\n",
    "gpu_gslice100_train = []\n",
    "gpu_gslice100_infer = []\n",
    "\n",
    "for ind in range(len(dir_gpu_proposed)-1):\n",
    "    with open('Proposed_burst/data/used_gpus/used_gpus_slo100_day%d'%(ind+1)) as f:\n",
    "        lines = f.readlines()\n",
    "    for l in lines:\n",
    "        gpu_proposed100.append(float(l))\n",
    "        \n",
    "# for ind in range(len(dir_gpu_simple)-1):\n",
    "#     with open('Simple/data/used_gpus/used_gpus_slo100_day%d'%(ind+1)) as f:\n",
    "#         lines = f.readlines()\n",
    "#     for l in lines:\n",
    "#         gpu_simple100.append(float(l))\n",
    "        \n",
    "# for ind in range(len(dir_gpu_conserve)-1):\n",
    "#     with open('Conservative/data/used_gpus/used_gpus_slo100_day%d'%(ind+1)) as f:\n",
    "#         lines = f.readlines()\n",
    "#     for l in lines:\n",
    "#         gpu_conserve100.append(float(l))\n",
    "\n",
    "# for ind in range(len(dir_gpu_separate)-1):\n",
    "#     with open('Separate/data/used_gpus/used_gpus_slo_day%d'%(ind+1)) as f:\n",
    "#         lines = f.readlines()\n",
    "#     for l in lines:\n",
    "#         gpu_separate100.append(float(l))\n",
    "# for ind in range(len(dir_gpu_separate_train)-1):\n",
    "#     with open('Separate/data/used_gpus_train/used_gpus_slo_day%d'%(ind+1)) as f:\n",
    "#         lines = f.readlines()\n",
    "#     for l in lines:\n",
    "#         gpu_separate100_train.append(float(l))\n",
    "# for ind in range(len(dir_gpu_separate_infer)-1):\n",
    "#     with open('Separate/data/used_gpus_infer/used_gpus_slo_day%d'%(ind+1)) as f:\n",
    "#         lines = f.readlines()\n",
    "#     for l in lines:\n",
    "#         gpu_separate100_infer.append(float(l))\n",
    "\n",
    "for ind in range(len(dir_gpu_Separate_burst)-1):\n",
    "    with open('Separate_burst/data/used_gpus/used_gpus_slo_day%d'%(ind+1)) as f:\n",
    "        lines = f.readlines()\n",
    "    for l in lines:\n",
    "        gpu_Separate_burst.append(float(l))\n",
    "\n",
    "# for ind in range(len(dir_gpu_Separate_burst_train)-1):\n",
    "    with open('Separate_burst/data/used_gpus_train/used_gpus_slo_day%d'%(ind+1)) as f:\n",
    "        lines = f.readlines()\n",
    "    for l in lines:\n",
    "        gpu_Separate_burst_train.append(float(l))\n",
    "    assert len(gpu_Separate_burst_train)==len(gpu_Separate_burst)\n",
    "\n",
    "# for ind in range(len(dir_gpu_Separate_burst_infer)-1):\n",
    "    with open('Separate_burst/data/used_gpus_infer/used_gpus_slo_day%d'%(ind+1)) as f:\n",
    "        lines = f.readlines()\n",
    "    for l in lines:\n",
    "        gpu_Separate_burst_infer.append(float(l))\n",
    "    assert len(gpu_Separate_burst_infer)==len(gpu_Separate_burst)\n",
    "        \n",
    "for ind in range(len(dir_gpu_non)-1):\n",
    "    with open('Non_burst/data/used_gpus/used_gpus_slo_day%d'%(ind+1)) as f:\n",
    "        lines = f.readlines()\n",
    "    for l in lines:\n",
    "        gpu_non100.append(float(l))\n",
    "    \n",
    "    with open('Non_burst/data/used_gpus_train/used_gpus_slo_day%d'%(ind+1)) as f:\n",
    "        lines = f.readlines()\n",
    "    for l in lines:\n",
    "        gpu_non100_train.append(float(l))\n",
    "    assert len(gpu_non100)==len(gpu_non100_train)\n",
    "    \n",
    "    with open('Non_burst/data/used_gpus_infer/used_gpus_slo_day%d'%(ind+1)) as f:\n",
    "        lines = f.readlines()\n",
    "    for l in lines:\n",
    "        gpu_non100_infer.append(float(l))\n",
    "    assert len(gpu_non100)==len(gpu_non100_infer)\n",
    "\n",
    "for ind in range(len(dir_gpu_gslice)-1):\n",
    "    with open('Gslice_burst/data/used_gpus/used_gpus_slo_day%d'%(ind+1)) as f:\n",
    "        lines = f.readlines()\n",
    "    for l in lines:\n",
    "        gpu_gslice100.append(float(l))\n",
    "\n",
    "# for ind in range(len(dir_gpu_Separate_burst_train)-1):\n",
    "    with open('Gslice_burst/data/used_gpus_train/used_gpus_slo_day%d'%(ind+1)) as f:\n",
    "        lines = f.readlines()\n",
    "    for l in lines:\n",
    "        gpu_gslice100_train.append(float(l))\n",
    "    assert len(gpu_gslice100_train)==len(gpu_gslice100)\n",
    "\n",
    "    with open('Gslice_burst/data/used_gpus_infer/used_gpus_slo_day%d'%(ind+1)) as f:\n",
    "        lines = f.readlines()\n",
    "    for l in lines:\n",
    "        gpu_gslice100_infer.append(float(l))\n",
    "    assert len(gpu_gslice100_infer)==len(gpu_gslice100)"
   ]
  },
  {
   "cell_type": "code",
   "execution_count": 35,
   "id": "c675ce85-cb23-46f4-8896-80304d082856",
   "metadata": {},
   "outputs": [],
   "source": [
    "SMALL_SIZE = 8\n",
    "MEDIUM_SIZE = 12\n",
    "BIGGER_SIZE = 12\n",
    "\n",
    "plt.rcParams[\"font.family\"] = \"Arial\"\n",
    "plt.rc('font', size=BIGGER_SIZE)          # controls default text sizes\n",
    "plt.rc('axes', titlesize=BIGGER_SIZE)     # fontsize of the axes title\n",
    "plt.rc('axes', labelsize=BIGGER_SIZE)    # fontsize of the x and y labels\n",
    "plt.rc('xtick', labelsize=BIGGER_SIZE)    # fontsize of the tick labels\n",
    "plt.rc('ytick', labelsize=BIGGER_SIZE)    # fontsize of the tick labels\n",
    "plt.rc('legend', fontsize=BIGGER_SIZE)    # legend fontsize\n",
    "plt.rc('figure', titlesize=BIGGER_SIZE)  # fontsize of the figure title"
   ]
  },
  {
   "cell_type": "code",
   "execution_count": 36,
   "id": "1e10b2f3-c462-4356-92d7-0edfcd3f5c7a",
   "metadata": {},
   "outputs": [],
   "source": [
    "gpu_separate_raw = np.array(gpu_Separate_burst_train)+np.array(gpu_Separate_burst_infer)\n",
    "gpu_non_raw = np.array(gpu_non100_train)+np.array(gpu_non100_infer)\n",
    "gpu_separate100=[] #train:infer=5:1\n",
    "for i in range(len(gpu_Separate_burst_train)):\n",
    "    from_train = gpu_Separate_burst_train[i]//5+gpu_Separate_burst_train[i] # train:infer=5:1\n",
    "    from_infer = gpu_Separate_burst_infer[i]*6\n",
    "    gpu1_5 = max(from_train,from_infer)\n",
    "    gpu_separate100.append(gpu1_5)\n",
    "\n",
    "    from_train = gpu_Separate_burst_train[i]*6 # train:infer=1:5\n",
    "    from_infer = gpu_Separate_burst_infer[i]//5+gpu_Separate_burst_infer[i]\n",
    "    gpu5_1 = max(from_train,from_infer)\n",
    "    gpu_Separate_burst[i] = gpu5_1\n",
    "\n",
    "def avg_hour(ls, interval):\n",
    "    ls_avg = []\n",
    "    for i in np.arange(0,len(ls),interval):\n",
    "        hour=[]\n",
    "        for j in np.arange(i,i+interval):\n",
    "            if j >= len(ls):\n",
    "                break\n",
    "            hour.append(ls[j])\n",
    "        ls_avg.append(np.mean(hour))\n",
    "    return ls_avg\n",
    "gpu_non100_avg = avg_hour(gpu_non100, 86400)\n",
    "gpu_non_raw_avg = avg_hour(gpu_non_raw, 86400)\n",
    "gpu_proposed100_avg = avg_hour(gpu_proposed100, 86400)\n",
    "gpu_separate100_avg = avg_hour(gpu_separate100, 86400) #1:5\n",
    "gpu_Separate_burst_avg = avg_hour(gpu_Separate_burst, 86400) #5:1\n",
    "gpu_Separate_raw_avg = avg_hour(gpu_separate_raw, 86400)\n",
    "gpu_gslice100_avg = avg_hour(gpu_gslice100, 86400)\n"
   ]
  },
  {
   "cell_type": "code",
   "execution_count": 37,
   "id": "1310c093-73c4-414d-b8d6-bc6a0944a5a1",
   "metadata": {},
   "outputs": [
    {
     "name": "stdout",
     "output_type": "stream",
     "text": [
      "Proposed, avg GPU 766, time 59.35 days, aggre num 1091367\n",
      "Separate T:I=1:5, avg GPU 3625, time 56.57 days, aggre num 4922470\n",
      "No colo, avg GPU 3059, time 56.57 days, aggre num 4153455\n",
      "GSLICE, avg GPU 1538, time 56.57 days, aggre num 2088716\n"
     ]
    },
    {
     "data": {
      "image/png": "[encoded data removed]",
      "text/plain": [
       "<Figure size 450x300 with 1 Axes>"
      ]
     },
     "metadata": {},
     "output_type": "display_data"
    }
   ],
   "source": [
    "fig, ax = plt.subplots()\n",
    "fig.set_size_inches(4.5, 3)\n",
    "line1,=ax.plot(np.arange(0,len(gpu_non_raw_avg)),   gpu_non_raw_avg, color=\"tab:blue\", linestyle='dashed',label='No Co-location')\n",
    "line2,=ax.plot(np.arange(0,len(gpu_proposed100_avg[:-3])), gpu_proposed100_avg[:-3], color=\"tab:orange\",linewidth=2.0,label='GPUColo')\n",
    "# line3,=ax.plot(np.arange(0,len(gpu_separate100_avg)), gpu_separate100_avg, color=\"tab:green\",linestyle='dotted', label='Separate 1:5')\n",
    "# line3,=ax.plot(np.arange(0,len(gpu_Separate_raw_avg)), gpu_Separate_raw_avg, color=\"tab:green\",linestyle='dotted', label='Separate 1:1')\n",
    "line4,=ax.plot(np.arange(0,len(gpu_Separate_burst_avg)), gpu_Separate_burst_avg, color=\"tab:red\",linestyle='dashdot', label='Separate 5:1')\n",
    "line5,=ax.plot(np.arange(0,len(gpu_gslice100_avg)), gpu_gslice100_avg, color=\"fuchsia\", linestyle=(0, (3, 1, 1, 1, 1, 1)), label='GSLICE')\n",
    "ax.vlines(x = 20, ymin = 0, ymax = 6000, colors = 'black', linestyle='dashed', label = 'Day 20')\n",
    "ax.vlines(x = 40, ymin = 0, ymax = 6000, colors = 'black', linestyle='dashed', label = 'Day 40')\n",
    "\n",
    "lns = [line1,line2,line4,line5]\n",
    "labs = [l.get_label() for l in lns]\n",
    "ax.legend(lns, labs, loc='upper center',fancybox=False, \n",
    "               shadow=False, ncol=2, frameon=False,\n",
    "           bbox_to_anchor=(0.46, 1.05))\n",
    "ax.set_xlabel('Time (days)')\n",
    "ax.set_ylabel('Number of GPUs')\n",
    "ax.set_xlim(0,58)\n",
    "ax.set_ylim(0,8000)\n",
    "plt.yticks(rotation=90)\n",
    "fig.tight_layout()\n",
    "# plt.savefig('figs/simu_trace_all.pdf',format=\"pdf\",dpi=300)\n",
    "# ax.set_ylim(0,5000)\n",
    "# print(len(gpu_non100))\n",
    "# print(len(gpu_proposed100))\n",
    "# print(len(gpu_separate100))\n",
    "# print(len(gpu_Separate_burst))\n",
    "print(\"Proposed, avg GPU %d, time %.2f days, aggre num %d\"%(np.mean(gpu_proposed100), len(gpu_proposed100)/3600/24, np.mean(gpu_proposed100)*len(gpu_proposed100)/3600))\n",
    "# print(\"Separate T:I=5:1, avg GPU %d, time %.2f days, aggre num %d\"%(np.mean(gpu_separate100), len(gpu_separate100)*10/3600/24, np.mean(gpu_separate100)*len(gpu_separate100)*10/3600/24))\n",
    "print(\"Separate T:I=1:5, avg GPU %d, time %.2f days, aggre num %d\"%(np.mean(gpu_Separate_burst), len(gpu_Separate_burst)/3600/24, np.mean(gpu_Separate_burst)*len(gpu_Separate_burst)/3600))\n",
    "print(\"No colo, avg GPU %d, time %.2f days, aggre num %d\"%(np.mean(gpu_non_raw), len(gpu_non_raw)/3600/24, np.mean(gpu_non_raw)*len(gpu_non_raw)/3600))\n",
    "print(\"GSLICE, avg GPU %d, time %.2f days, aggre num %d\"%(np.mean(gpu_gslice100), len(gpu_gslice100)/3600/24, np.mean(gpu_gslice100)*len(gpu_gslice100)/3600))"
   ]
  },
  {
   "cell_type": "code",
   "execution_count": 38,
   "id": "b1614542-aa3e-4d1d-8a7a-1d1f853c9e00",
   "metadata": {},
   "outputs": [
    {
     "name": "stdout",
     "output_type": "stream",
     "text": [
      "Proposed, overall: 766, 1-19: 652, 20-39 818, 40-57: 738\n",
      "GSLICE, overall: 1538, 1-19: 1117, 20-39 1768, 40-57: 1731\n",
      "No colo, overall: 3059, 1-19: 1863, 20-39 4242, 40-57: 3004\n",
      "Separate I:T=5:1, overall: 3625, 1-19: 3077, 20-39 3586, 40-57: 4081\n"
     ]
    }
   ],
   "source": [
    "print(\"Proposed, overall: %d, 1-19: %d, 20-39 %d, 40-57: %d\"%(np.mean(gpu_proposed100), np.mean(gpu_proposed100[:19*86400]), np.mean(gpu_proposed100[19*8640:39*86400]), np.mean(gpu_proposed100[39*86400:])))\n",
    "print(\"GSLICE, overall: %d, 1-19: %d, 20-39 %d, 40-57: %d\"%(np.mean(gpu_gslice100), np.mean(gpu_gslice100[:19*86400]), np.mean(gpu_gslice100[19*86400:39*86400]), np.mean(gpu_gslice100[39*86400:])))\n",
    "print(\"No colo, overall: %d, 1-19: %d, 20-39 %d, 40-57: %d\"%(np.mean(gpu_non100), np.mean(gpu_non100[:19*86400]), np.mean(gpu_non100[19*86400:39*86400]), np.mean(gpu_non100[39*86400:])))\n",
    "print(\"Separate I:T=5:1, overall: %d, 1-19: %d, 20-39 %d, 40-57: %d\"%(np.mean(gpu_Separate_burst), np.mean(gpu_Separate_burst[:19*86400]), np.mean(gpu_Separate_burst[19*8640:39*86400]), np.mean(gpu_Separate_burst[39*86400:])))"
   ]
  },
  {
   "cell_type": "code",
   "execution_count": 39,
   "id": "a118df70-3390-4f90-88eb-f4cd7ef24d00",
   "metadata": {},
   "outputs": [
    {
     "name": "stdout",
     "output_type": "stream",
     "text": [
      "1363.0\n",
      "2920.0\n"
     ]
    }
   ],
   "source": [
    "print(np.max(gpu_proposed100))\n",
    "print(np.max(gpu_gslice100))"
   ]
  },
  {
   "cell_type": "code",
   "execution_count": 40,
   "id": "0fff10d3-224e-4350-9655-bb25cd92197d",
   "metadata": {},
   "outputs": [
    {
     "name": "stdout",
     "output_type": "stream",
     "text": [
      "len GPUcolo 0.5 ddl 58\n",
      "len GSLICE 0.5 ddl 58\n",
      "len GPUcolo 1 ddl 59\n",
      "len GSLICE 1 ddl 58\n",
      "len GPUcolo 2 ddl 59\n",
      "len GSLICE 2 ddl 58\n",
      "len GPUcolo 3 ddl 59\n",
      "len GSLICE 3 ddl 58\n"
     ]
    }
   ],
   "source": [
    "import os\n",
    "# Num of gpus\n",
    "path_ddl_proposed_0_5 = \"Proposed_0_5/data/miss_ddl\"\n",
    "dir_ddl_proposed_0_5 = os.listdir(path_ddl_proposed_0_5)\n",
    "print(\"len GPUcolo 0.5 ddl %d\"%(len(dir_ddl_proposed_0_5)))\n",
    "path_ddl_gslice_0_5 = \"Gslice_0_5/data/miss_ddl\"\n",
    "dir_ddl_gslice_0_5 = os.listdir(path_ddl_gslice_0_5)\n",
    "print(\"len GSLICE 0.5 ddl %d\"%(len(dir_ddl_gslice_0_5)))\n",
    "\n",
    "path_ddl_proposed_1 = \"Proposed_1/data/miss_ddl\"\n",
    "dir_ddl_proposed_1 = os.listdir(path_ddl_proposed_1)\n",
    "print(\"len GPUcolo 1 ddl %d\"%(len(dir_ddl_proposed_1)))\n",
    "path_ddl_gslice_1 = \"Gslice_1/data/miss_ddl\"\n",
    "dir_ddl_gslice_1 = os.listdir(path_ddl_gslice_1)\n",
    "print(\"len GSLICE 1 ddl %d\"%(len(dir_ddl_gslice_1)))\n",
    "\n",
    "path_ddl_proposed_2 = \"Proposed_2/data/miss_ddl\"\n",
    "dir_ddl_proposed_2 = os.listdir(path_ddl_proposed_2)\n",
    "print(\"len GPUcolo 2 ddl %d\"%(len(dir_ddl_proposed_2)))\n",
    "path_ddl_gslice_2 = \"Gslice_2/data/miss_ddl\"\n",
    "dir_ddl_gslice_2 = os.listdir(path_ddl_gslice_2)\n",
    "print(\"len GSLICE 2 ddl %d\"%(len(dir_ddl_gslice_2)))\n",
    "\n",
    "path_ddl_proposed_3 = \"Proposed_3/data/miss_ddl\"\n",
    "dir_ddl_proposed_3 = os.listdir(path_ddl_proposed_3)\n",
    "print(\"len GPUcolo 3 ddl %d\"%(len(dir_ddl_proposed_3)))\n",
    "path_ddl_gslice_3 = \"Gslice_3/data/miss_ddl\"\n",
    "dir_ddl_gslice_3 = os.listdir(path_ddl_gslice_3)\n",
    "print(\"len GSLICE 3 ddl %d\"%(len(dir_ddl_gslice_3)))\n",
    "\n",
    "ddl_proposed_0_5 = []\n",
    "for ind in range(len(dir_ddl_proposed_0_5)-1):\n",
    "    with open('Proposed_0_5/data/miss_ddl/miss_ddl_slo96_day%d'%(ind+1)) as f:\n",
    "        lines = f.readlines()\n",
    "    for l in lines:\n",
    "        ddl_proposed_0_5.append(float(l)*100)\n",
    "ddl_gslice_0_5 = []\n",
    "for ind in range(len(dir_ddl_gslice_0_5)-1):\n",
    "    with open('Gslice_0_5/data/miss_ddl/miss_ddl_slo96_day%d'%(ind+1)) as f:\n",
    "        lines = f.readlines()\n",
    "    for l in lines:\n",
    "        ddl_gslice_0_5.append(float(l)*100)\n",
    "\n",
    "ddl_proposed_1 = []\n",
    "for ind in range(len(dir_ddl_proposed_1)-1):\n",
    "    with open('Proposed_1/data/miss_ddl/miss_ddl_slo96_day%d'%(ind+1)) as f:\n",
    "        lines = f.readlines()\n",
    "    for l in lines:\n",
    "        ddl_proposed_1.append(float(l)*100)\n",
    "ddl_gslice_1 = []\n",
    "for ind in range(len(dir_ddl_gslice_1)-1):\n",
    "    with open('Gslice_1/data/miss_ddl/miss_ddl_slo96_day%d'%(ind+1)) as f:\n",
    "        lines = f.readlines()\n",
    "    for l in lines:\n",
    "        ddl_gslice_1.append(float(l)*100)\n",
    "\n",
    "ddl_proposed_2 = []\n",
    "for ind in range(len(dir_ddl_proposed_2)-1):\n",
    "    with open('Proposed_2/data/miss_ddl/miss_ddl_slo96_day%d'%(ind+1)) as f:\n",
    "        lines = f.readlines()\n",
    "    for l in lines:\n",
    "        ddl_proposed_2.append(float(l)*100)\n",
    "ddl_gslice_2 = []\n",
    "for ind in range(len(dir_ddl_gslice_2)-1):\n",
    "    with open('Gslice_2/data/miss_ddl/miss_ddl_slo96_day%d'%(ind+1)) as f:\n",
    "        lines = f.readlines()\n",
    "    for l in lines:\n",
    "        ddl_gslice_2.append(float(l)*100)\n",
    "\n",
    "ddl_proposed_3 = []\n",
    "for ind in range(len(dir_ddl_proposed_3)-1):\n",
    "    with open('Proposed_3/data/miss_ddl/miss_ddl_slo96_day%d'%(ind+1)) as f:\n",
    "        lines = f.readlines()\n",
    "    for l in lines:\n",
    "        ddl_proposed_3.append(float(l)*100)\n",
    "ddl_gslice_3 = []\n",
    "for ind in range(len(dir_ddl_gslice_3)-1):\n",
    "    with open('Gslice_3/data/miss_ddl/miss_ddl_slo96_day%d'%(ind+1)) as f:\n",
    "        lines = f.readlines()\n",
    "    for l in lines:\n",
    "        ddl_gslice_3.append(float(l)*100)\n",
    "        \n"
   ]
  },
  {
   "cell_type": "code",
   "execution_count": 41,
   "id": "11971cec-4cde-4afe-a13e-8ebd20264e74",
   "metadata": {},
   "outputs": [],
   "source": [
    "import numpy as np\n",
    "def get_pos(x):\n",
    "    x=x[np.nonzero(x)]\n",
    "    return x\n",
    "ddl_proposed_0_5 = get_pos(np.array(ddl_proposed_0_5))\n",
    "ddl_proposed_1 = get_pos(np.array(ddl_proposed_1))\n",
    "ddl_proposed_2 = get_pos(np.array(ddl_proposed_2))\n",
    "ddl_proposed_3 = get_pos(np.array(ddl_proposed_3))\n",
    "ddl_gslice_0_5 = get_pos(np.array(ddl_gslice_0_5))\n",
    "ddl_gslice_1 = get_pos(np.array(ddl_gslice_1))\n",
    "ddl_gslice_2 = get_pos(np.array(ddl_gslice_2))\n",
    "ddl_gslice_3 = get_pos(np.array(ddl_gslice_3))\n",
    "avg_ddl_proposed = np.array([np.mean(ddl_proposed_0_5),np.mean(ddl_proposed_1),np.mean(ddl_proposed_2),np.mean(ddl_proposed_3)])\n",
    "avg_ddl_gslice = np.array([np.mean(ddl_gslice_0_5),np.mean(ddl_gslice_1),np.mean(ddl_gslice_2),np.mean(ddl_gslice_3)])"
   ]
  },
  {
   "cell_type": "code",
   "execution_count": 27,
   "id": "49bff84e-976a-4f3d-a450-0e18318417a9",
   "metadata": {},
   "outputs": [
    {
     "data": {
      "image/png": "[encoded data removed]",
      "text/plain": [
       "<Figure size 260x180 with 1 Axes>"
      ]
     },
     "metadata": {},
     "output_type": "display_data"
    }
   ],
   "source": [
    "import matplotlib.pyplot as plt\n",
    "import numpy as np\n",
    "fig, ax = plt.subplots()\n",
    "fig.set_size_inches(2.6, 1.8)\n",
    "labels = ['0.5:1','1:1','2:1','3:1']\n",
    "\n",
    "X_axis = np.arange(len(labels))\n",
    "line1=plt.bar(X_axis-0.125, avg_ddl_proposed, width=0.25,color='black', label = 'GPUColo')\n",
    "line2=ax.bar(X_axis+0.125, avg_ddl_gslice, width=0.25, color='tab:orange', alpha=0.5, edgecolor='black', capsize=5, hatch='/', label = 'GSLICE')\n",
    "\n",
    "lns = [line1,line2]\n",
    "labs = [l.get_label() for l in lns]\n",
    "plt.legend(lns, labs, loc='upper center',fancybox=True,\n",
    "           shadow=False, ncol=1, frameon=True,\n",
    "           bbox_to_anchor=(0.35, 1), columnspacing=0.2, \n",
    "          labelspacing=0.15,facecolor='white', framealpha=0)\n",
    "\n",
    "ax.set_ylabel('SLO Violation (%)')\n",
    "ax.set_xticks(X_axis, labels)\n",
    "ax.set_xlabel('Number of Inference:Training')\n",
    "ax.set_ylim(0,40)\n",
    "plt.tight_layout()\n",
    "# plt.savefig('figs/latency_set_points_full_inner_control_b%d.eps'%(b_size), dpi=300)\n",
    "plt.savefig('figs/slo_vio_bar.pdf', dpi=300)"
   ]
  },
  {
   "cell_type": "code",
   "execution_count": 31,
   "id": "9dcd804c-5b1d-4d08-86e7-8eccc46c3cb0",
   "metadata": {},
   "outputs": [
    {
     "name": "stdout",
     "output_type": "stream",
     "text": [
      "len GPUcolo ddl 60\n",
      "len GSLICE ddl 58\n"
     ]
    },
    {
     "data": {
      "image/png": "[encoded data removed]",
      "text/plain": [
       "<Figure size 260x180 with 1 Axes>"
      ]
     },
     "metadata": {},
     "output_type": "display_data"
    }
   ],
   "source": [
    "import os\n",
    "# Num of gpus\n",
    "path_ddl_proposed = \"Proposed_burst_slo96/data/miss_ddl\"\n",
    "dir_ddl_proposed = os.listdir(path_ddl_proposed)\n",
    "print(\"len GPUcolo ddl %d\"%(len(dir_ddl_proposed)))\n",
    "path_ddl_gslice = \"Gslice_burst_slo96/data/miss_ddl\"\n",
    "dir_ddl_gslice = os.listdir(path_ddl_gslice)\n",
    "print(\"len GSLICE ddl %d\"%(len(dir_ddl_gslice)))\n",
    "\n",
    "ddl_proposed = []\n",
    "for ind in range(len(dir_ddl_proposed)):\n",
    "    if not os.path.isfile('Proposed_burst_slo96/data/miss_ddl/miss_ddl_slo96_day%d'%(ind+1)):\n",
    "        ddl_proposed.append(0)\n",
    "        continue\n",
    "        \n",
    "    with open('Proposed_burst_slo96/data/miss_ddl/miss_ddl_slo96_day%d'%(ind+1)) as f:\n",
    "        lines = f.readlines()\n",
    "    for l in lines:\n",
    "        ddl_proposed.append(float(l)*100)\n",
    "\n",
    "ddl_gslice = []\n",
    "for ind in range(len(dir_ddl_gslice)):\n",
    "    if not os.path.isfile('Gslice_burst_slo96/data/miss_ddl/miss_ddl_slo96_day%d'%(ind+1)):\n",
    "        ddl_gslice.append(0)\n",
    "        continue\n",
    "    with open('Gslice_burst_slo96/data/miss_ddl/miss_ddl_slo96_day%d'%(ind+1)) as f:\n",
    "        lines = f.readlines()\n",
    "    for l in lines:\n",
    "        ddl_gslice.append(float(l)*100)\n",
    "\n",
    "import matplotlib.pyplot as plt\n",
    "import numpy as np\n",
    "fig, ax = plt.subplots()\n",
    "fig.set_size_inches(2.6, 1.8)\n",
    "line1,=ax.plot(np.arange(1, len(ddl_proposed)+1), ddl_proposed, color='#00B6FF', label='GPUColo')\n",
    "line2,=ax.plot(np.arange(1, len(ddl_gslice)+1), ddl_gslice, color='#FF6C00', linestyle='dashed', label='GSLICE')\n",
    "lns = [line1,line2]\n",
    "labs = [l.get_label() for l in lns]\n",
    "ax.legend(lns, labs, loc='upper center',fancybox=True,\n",
    "           shadow=False, ncol=1, frameon=True,\n",
    "           bbox_to_anchor=(0.5, 0.9), columnspacing=0.2, \n",
    "          labelspacing=0.15,facecolor='white', framealpha=0)\n",
    "ax.set_xlabel('Time (days)')\n",
    "ax.set_ylabel('SLO Violation (%)')\n",
    "ax.set_xlim(0,58)\n",
    "ax.set_ylim(0,100)\n",
    "plt.tight_layout()\n",
    "# plt.savefig('figs/latency_set_points_full_inner_control_b%d.eps'%(b_size), dpi=300)\n",
    "plt.savefig('figs/slo_vio_curve.pdf', dpi=300)"
   ]
  },
  {
   "cell_type": "code",
   "execution_count": 8,
   "id": "10eb0be6-8ab2-4870-8b33-e1423ce80c4a",
   "metadata": {},
   "outputs": [
    {
     "data": {
      "text/plain": [
       "1.0831746975535"
      ]
     },
     "execution_count": 8,
     "metadata": {},
     "output_type": "execute_result"
    }
   ],
   "source": [
    "np.mean(ddl_proposed[6:])"
   ]
  },
  {
   "cell_type": "code",
   "execution_count": 9,
   "id": "f8de69ab-d3aa-4bff-af9c-3750bbe6a165",
   "metadata": {},
   "outputs": [
    {
     "data": {
      "text/plain": [
       "28.36800967576957"
      ]
     },
     "execution_count": 9,
     "metadata": {},
     "output_type": "execute_result"
    }
   ],
   "source": [
    "np.mean(ddl_gslice[20:40])"
   ]
  },
  {
   "cell_type": "code",
   "execution_count": 10,
   "id": "4068db7f-3e0e-4bfe-98d4-ebd5a643a542",
   "metadata": {},
   "outputs": [
    {
     "data": {
      "text/plain": [
       "27.227040110491583"
      ]
     },
     "execution_count": 10,
     "metadata": {},
     "output_type": "execute_result"
    }
   ],
   "source": [
    "np.mean(ddl_gslice[6:])"
   ]
  },
  {
   "cell_type": "code",
   "execution_count": null,
   "id": "7d76888b-a514-44fd-a4cb-e8512adcecb1",
   "metadata": {},
   "outputs": [],
   "source": []
  }
 ],
 "metadata": {
  "kernelspec": {
   "display_name": "Python 3 (ipykernel)",
   "language": "python",
   "name": "python3"
  },
  "language_info": {
   "codemirror_mode": {
    "name": "ipython",
    "version": 3
   },
   "file_extension": ".py",
   "mimetype": "text/x-python",
   "name": "python",
   "nbconvert_exporter": "python",
   "pygments_lexer": "ipython3",
   "version": "3.9.12"
  }
 },
 "nbformat": 4,
 "nbformat_minor": 5
}
